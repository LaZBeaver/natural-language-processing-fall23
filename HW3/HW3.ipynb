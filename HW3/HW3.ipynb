{
  "nbformat": 4,
  "nbformat_minor": 0,
  "metadata": {
    "colab": {
      "provenance": []
    },
    "kernelspec": {
      "name": "python3",
      "display_name": "Python 3"
    },
    "language_info": {
      "name": "python"
    }
  },
  "cells": [
    {
      "cell_type": "markdown",
      "source": [
        "### __CE-406771:__ &nbsp;&nbsp;&nbsp;&nbsp;&nbsp;&nbsp;&nbsp;&nbsp;&nbsp;&nbsp;&nbsp;&nbsp;&nbsp;&nbsp;&nbsp;&nbsp;&nbsp;&nbsp;&nbsp; _Natural Language Processing, Fall 23._ <br>\n",
        "### __Homework #3:__ &nbsp;&nbsp;&nbsp;&nbsp;&nbsp;&nbsp;&nbsp;&nbsp;&nbsp;&nbsp;&nbsp;&nbsp;&nbsp; _Drug Name Prediction. <br>_\n",
        "### __Student Information:__ &nbsp; _Mohammad M. Gharaguzlo, 401206836, [My mail](moh.gharaguzlo13@sharif.edu)._ <br>"
      ],
      "metadata": {
        "id": "FS84ku1J-s1m"
      }
    },
    {
      "cell_type": "markdown",
      "source": [
        "## _Introduction:_ <br>\n",
        "As stated in the proposed [homework document](./NLP_HW3.pdf), we are to obtain text embeddings for the provided data sets. <br>\n",
        "These embeddings will be extracted utilizing FastText and BERT pretrained models. <br>\n",
        " The aforementioned sets include drug names and their descriptions. <br>\n",
        "Finally, using a prediction method which'll use cosine simirality we should find the three most similar drugs to the given input description."
      ],
      "metadata": {
        "id": "ufKgKNlf_oCj"
      }
    },
    {
      "cell_type": "code",
      "source": [
        "from nltk import download\n",
        "download(\"popular\")\n",
        "!pip install hazm"
      ],
      "metadata": {
        "id": "WpaJONyq20ha"
      },
      "execution_count": null,
      "outputs": []
    },
    {
      "cell_type": "code",
      "execution_count": null,
      "metadata": {
        "id": "7P8x4jv50vpm"
      },
      "outputs": [],
      "source": [
        "!pip install fasttext"
      ]
    },
    {
      "cell_type": "markdown",
      "source": [
        "### _Installing Prerequisites and Dependencies:_ <br>\n",
        "Alongside the common frameworks regarding language processing and text manipulation(Nltk, Hazm, etc... ), we're going to need\n",
        "[FastText](https://fasttext.cc/docs/en/crawl-vectors.html)\n",
        "and\n",
        "[BERT](https://huggingface.co/HooshvareLab/bert-base-parsbert-uncased)\n",
        "to extract embedding. <br>\n",
        "\n",
        "FastText is quite a hefty model, it's english and farsi packages together are sized more than 10 gigabytes. So take your time, it'll take more than an hour to download them."
      ],
      "metadata": {
        "id": "RkphykJmEcZx"
      }
    },
    {
      "cell_type": "code",
      "source": [
        "from fasttext.util import download_model"
      ],
      "metadata": {
        "id": "CbUkT1DG37vB"
      },
      "execution_count": 17,
      "outputs": []
    },
    {
      "cell_type": "code",
      "source": [
        "download_model('en', if_exists='ignore')"
      ],
      "metadata": {
        "id": "3keGkamQ1th1"
      },
      "execution_count": null,
      "outputs": []
    },
    {
      "cell_type": "code",
      "source": [
        "download_model('fa', if_exists='ignore')"
      ],
      "metadata": {
        "id": "0u4Y4alq16-M",
        "colab": {
          "base_uri": "https://localhost:8080/",
          "height": 35
        },
        "outputId": "a79dfc2b-3bdc-491f-84a9-daeb1b2ac55c"
      },
      "execution_count": 18,
      "outputs": [
        {
          "output_type": "execute_result",
          "data": {
            "text/plain": [
              "'cc.fa.300.bin'"
            ],
            "application/vnd.google.colaboratory.intrinsic+json": {
              "type": "string"
            }
          },
          "metadata": {},
          "execution_count": 18
        }
      ]
    },
    {
      "cell_type": "markdown",
      "source": [],
      "metadata": {
        "id": "p0TQOEBJEV-4"
      }
    },
    {
      "cell_type": "markdown",
      "source": [
        "### _Parsing And Preprocessing:_ <br>\n",
        "Drugbank includes valuable information for about 9000 drugs. Note that the aforementioned data set actually consists of 15000 drugs with description tag but only 9000 of those descriptions has content in them and the rest are empty. <br>\n",
        "\n",
        "Initially I wanted to use [Beautifulsoup](https://www.crummy.com/software/BeautifulSoup/bs4/doc/)\n",
        "to extract the content I needed, however given the size of drugbank file which is more than 1 gigabyte BS4 failed to provide the desired reuslt(it took me about 6 hours and a few crashes to realize BS4 isn't going to work).<br>\n",
        "\n",
        "Finally I resorted to using\n",
        "[lxml](https://lxml.de/)'s\n",
        "etree which solved the problem(somehow...). you can find the parser script in the [drugbank_parser](./drugbank_parser.py) file. <br>\n",
        "\n",
        "\n",
        "Now that we have the data we need, next step is conduct some preprocessing operations on the descriptions. These include removing stop words, unifying alphabet letters(lowering) and so on.<br>\n",
        "\n",
        "Obviously farsi pipe line differs from english and I used hazm to conduct the desired preprocessing. <br>\n",
        "\n",
        "You can find the repective code in [preprocess](./preprocess.py) file. It includes a <em>\"PreProcess\"</em> class which takes language name as a constructor argument.\n",
        "This can be <em>fa</em> or <em>eng</em> specifying <em>farsi</em> and <em>english</em> respectively. <br>\n",
        "\n",
        "<em>\"PreProcess\"</em> class has two functions wich can be utilized. <em>\"process\"</em> method takes a sentence and return the processed text and <em>\"get_and_save_processed\"</em> which takes a list of data frame column names and conducts the preprocess operation on all of it's row. It'll save the reuslts in the specified file name which you'll provide it as an argument."
      ],
      "metadata": {
        "id": "EusceZB_GOQ7"
      }
    },
    {
      "cell_type": "code",
      "source": [
        "from preprocess import PreProcess\n",
        "\n",
        "fa_processor = PreProcess(language=\"fa\")\n",
        "eng_processor = PreProcess(language=\"eng\")"
      ],
      "metadata": {
        "id": "if9SGjMnkJtt"
      },
      "execution_count": 3,
      "outputs": []
    },
    {
      "cell_type": "code",
      "source": [
        "import pandas as pd\n",
        "\n",
        "drugbank = pd.read_csv(r\"./drugbank_raw.csv\")\n",
        "farsibank = pd.read_csv(r\"./farsi_drug_data.csv\")\n",
        "\n",
        "\n",
        "drugbank_processed = eng_processor.get_and_save_processed(data= drugbank,\n",
        "                                     name_att= \"name\",\n",
        "                                     designated_atts=[\"description\", \"indication\"],\n",
        "                                     file_name=r\"./drugbank_processed.csv\")\n",
        "\n",
        "\n",
        "farsibank_processed = fa_processor.get_and_save_processed(data= farsibank,\n",
        "                                    name_att= \"name_tejary\",\n",
        "                                    designated_atts=[\"mavared_masraf\",\n",
        "                                                     \"avarez_janebi\",\n",
        "                                                     \"amozesh\",\n",
        "                                                     \"tavajohat\"],\n",
        "                                    file_name=r\"./farsibank_processed.csv\")"
      ],
      "metadata": {
        "id": "UDO27TeK_ftu"
      },
      "execution_count": null,
      "outputs": []
    },
    {
      "cell_type": "code",
      "source": [
        "print(\"Drug Bank Processed Lenght: {} \\n\".format(len(drugbank_processed)))\n",
        "drugbank_processed.head(3)"
      ],
      "metadata": {
        "colab": {
          "base_uri": "https://localhost:8080/",
          "height": 178
        },
        "id": "Qg4lRTNgnSIu",
        "outputId": "0b83d562-7b82-490f-f1a2-aa7391b1fe87"
      },
      "execution_count": null,
      "outputs": [
        {
          "output_type": "stream",
          "name": "stdout",
          "text": [
            "Drug Bank Processed Lenght: 8974 \n",
            "\n"
          ]
        },
        {
          "output_type": "execute_result",
          "data": {
            "text/plain": [
              "           name                                        description  \\\n",
              "0     Lepirudin  lepirudin recombinant hirudin formed 65 amino ...   \n",
              "1     Cetuximab  cetuximab recombinant chimeric human/mouse igg...   \n",
              "2  Dornase alfa  dornase alfa biosynthetic form human deoxyribu...   \n",
              "\n",
              "                                          indication  \n",
              "0  lepirudin indicated anticoagulation adult pati...  \n",
              "1  cetuximab indicated treatment locally regional...  \n",
              "2    used adjunct therapy treatment cystic fibrosis   "
            ],
            "text/html": [
              "\n",
              "  <div id=\"df-b2270d28-487a-4601-a9e4-234739e54510\" class=\"colab-df-container\">\n",
              "    <div>\n",
              "<style scoped>\n",
              "    .dataframe tbody tr th:only-of-type {\n",
              "        vertical-align: middle;\n",
              "    }\n",
              "\n",
              "    .dataframe tbody tr th {\n",
              "        vertical-align: top;\n",
              "    }\n",
              "\n",
              "    .dataframe thead th {\n",
              "        text-align: right;\n",
              "    }\n",
              "</style>\n",
              "<table border=\"1\" class=\"dataframe\">\n",
              "  <thead>\n",
              "    <tr style=\"text-align: right;\">\n",
              "      <th></th>\n",
              "      <th>name</th>\n",
              "      <th>description</th>\n",
              "      <th>indication</th>\n",
              "    </tr>\n",
              "  </thead>\n",
              "  <tbody>\n",
              "    <tr>\n",
              "      <th>0</th>\n",
              "      <td>Lepirudin</td>\n",
              "      <td>lepirudin recombinant hirudin formed 65 amino ...</td>\n",
              "      <td>lepirudin indicated anticoagulation adult pati...</td>\n",
              "    </tr>\n",
              "    <tr>\n",
              "      <th>1</th>\n",
              "      <td>Cetuximab</td>\n",
              "      <td>cetuximab recombinant chimeric human/mouse igg...</td>\n",
              "      <td>cetuximab indicated treatment locally regional...</td>\n",
              "    </tr>\n",
              "    <tr>\n",
              "      <th>2</th>\n",
              "      <td>Dornase alfa</td>\n",
              "      <td>dornase alfa biosynthetic form human deoxyribu...</td>\n",
              "      <td>used adjunct therapy treatment cystic fibrosis</td>\n",
              "    </tr>\n",
              "  </tbody>\n",
              "</table>\n",
              "</div>\n",
              "    <div class=\"colab-df-buttons\">\n",
              "\n",
              "  <div class=\"colab-df-container\">\n",
              "    <button class=\"colab-df-convert\" onclick=\"convertToInteractive('df-b2270d28-487a-4601-a9e4-234739e54510')\"\n",
              "            title=\"Convert this dataframe to an interactive table.\"\n",
              "            style=\"display:none;\">\n",
              "\n",
              "  <svg xmlns=\"http://www.w3.org/2000/svg\" height=\"24px\" viewBox=\"0 -960 960 960\">\n",
              "    <path d=\"M120-120v-720h720v720H120Zm60-500h600v-160H180v160Zm220 220h160v-160H400v160Zm0 220h160v-160H400v160ZM180-400h160v-160H180v160Zm440 0h160v-160H620v160ZM180-180h160v-160H180v160Zm440 0h160v-160H620v160Z\"/>\n",
              "  </svg>\n",
              "    </button>\n",
              "\n",
              "  <style>\n",
              "    .colab-df-container {\n",
              "      display:flex;\n",
              "      gap: 12px;\n",
              "    }\n",
              "\n",
              "    .colab-df-convert {\n",
              "      background-color: #E8F0FE;\n",
              "      border: none;\n",
              "      border-radius: 50%;\n",
              "      cursor: pointer;\n",
              "      display: none;\n",
              "      fill: #1967D2;\n",
              "      height: 32px;\n",
              "      padding: 0 0 0 0;\n",
              "      width: 32px;\n",
              "    }\n",
              "\n",
              "    .colab-df-convert:hover {\n",
              "      background-color: #E2EBFA;\n",
              "      box-shadow: 0px 1px 2px rgba(60, 64, 67, 0.3), 0px 1px 3px 1px rgba(60, 64, 67, 0.15);\n",
              "      fill: #174EA6;\n",
              "    }\n",
              "\n",
              "    .colab-df-buttons div {\n",
              "      margin-bottom: 4px;\n",
              "    }\n",
              "\n",
              "    [theme=dark] .colab-df-convert {\n",
              "      background-color: #3B4455;\n",
              "      fill: #D2E3FC;\n",
              "    }\n",
              "\n",
              "    [theme=dark] .colab-df-convert:hover {\n",
              "      background-color: #434B5C;\n",
              "      box-shadow: 0px 1px 3px 1px rgba(0, 0, 0, 0.15);\n",
              "      filter: drop-shadow(0px 1px 2px rgba(0, 0, 0, 0.3));\n",
              "      fill: #FFFFFF;\n",
              "    }\n",
              "  </style>\n",
              "\n",
              "    <script>\n",
              "      const buttonEl =\n",
              "        document.querySelector('#df-b2270d28-487a-4601-a9e4-234739e54510 button.colab-df-convert');\n",
              "      buttonEl.style.display =\n",
              "        google.colab.kernel.accessAllowed ? 'block' : 'none';\n",
              "\n",
              "      async function convertToInteractive(key) {\n",
              "        const element = document.querySelector('#df-b2270d28-487a-4601-a9e4-234739e54510');\n",
              "        const dataTable =\n",
              "          await google.colab.kernel.invokeFunction('convertToInteractive',\n",
              "                                                    [key], {});\n",
              "        if (!dataTable) return;\n",
              "\n",
              "        const docLinkHtml = 'Like what you see? Visit the ' +\n",
              "          '<a target=\"_blank\" href=https://colab.research.google.com/notebooks/data_table.ipynb>data table notebook</a>'\n",
              "          + ' to learn more about interactive tables.';\n",
              "        element.innerHTML = '';\n",
              "        dataTable['output_type'] = 'display_data';\n",
              "        await google.colab.output.renderOutput(dataTable, element);\n",
              "        const docLink = document.createElement('div');\n",
              "        docLink.innerHTML = docLinkHtml;\n",
              "        element.appendChild(docLink);\n",
              "      }\n",
              "    </script>\n",
              "  </div>\n",
              "\n",
              "\n",
              "<div id=\"df-23b343f4-8618-46d1-bfc1-eb73f822ed01\">\n",
              "  <button class=\"colab-df-quickchart\" onclick=\"quickchart('df-23b343f4-8618-46d1-bfc1-eb73f822ed01')\"\n",
              "            title=\"Suggest charts\"\n",
              "            style=\"display:none;\">\n",
              "\n",
              "<svg xmlns=\"http://www.w3.org/2000/svg\" height=\"24px\"viewBox=\"0 0 24 24\"\n",
              "     width=\"24px\">\n",
              "    <g>\n",
              "        <path d=\"M19 3H5c-1.1 0-2 .9-2 2v14c0 1.1.9 2 2 2h14c1.1 0 2-.9 2-2V5c0-1.1-.9-2-2-2zM9 17H7v-7h2v7zm4 0h-2V7h2v10zm4 0h-2v-4h2v4z\"/>\n",
              "    </g>\n",
              "</svg>\n",
              "  </button>\n",
              "\n",
              "<style>\n",
              "  .colab-df-quickchart {\n",
              "      --bg-color: #E8F0FE;\n",
              "      --fill-color: #1967D2;\n",
              "      --hover-bg-color: #E2EBFA;\n",
              "      --hover-fill-color: #174EA6;\n",
              "      --disabled-fill-color: #AAA;\n",
              "      --disabled-bg-color: #DDD;\n",
              "  }\n",
              "\n",
              "  [theme=dark] .colab-df-quickchart {\n",
              "      --bg-color: #3B4455;\n",
              "      --fill-color: #D2E3FC;\n",
              "      --hover-bg-color: #434B5C;\n",
              "      --hover-fill-color: #FFFFFF;\n",
              "      --disabled-bg-color: #3B4455;\n",
              "      --disabled-fill-color: #666;\n",
              "  }\n",
              "\n",
              "  .colab-df-quickchart {\n",
              "    background-color: var(--bg-color);\n",
              "    border: none;\n",
              "    border-radius: 50%;\n",
              "    cursor: pointer;\n",
              "    display: none;\n",
              "    fill: var(--fill-color);\n",
              "    height: 32px;\n",
              "    padding: 0;\n",
              "    width: 32px;\n",
              "  }\n",
              "\n",
              "  .colab-df-quickchart:hover {\n",
              "    background-color: var(--hover-bg-color);\n",
              "    box-shadow: 0 1px 2px rgba(60, 64, 67, 0.3), 0 1px 3px 1px rgba(60, 64, 67, 0.15);\n",
              "    fill: var(--button-hover-fill-color);\n",
              "  }\n",
              "\n",
              "  .colab-df-quickchart-complete:disabled,\n",
              "  .colab-df-quickchart-complete:disabled:hover {\n",
              "    background-color: var(--disabled-bg-color);\n",
              "    fill: var(--disabled-fill-color);\n",
              "    box-shadow: none;\n",
              "  }\n",
              "\n",
              "  .colab-df-spinner {\n",
              "    border: 2px solid var(--fill-color);\n",
              "    border-color: transparent;\n",
              "    border-bottom-color: var(--fill-color);\n",
              "    animation:\n",
              "      spin 1s steps(1) infinite;\n",
              "  }\n",
              "\n",
              "  @keyframes spin {\n",
              "    0% {\n",
              "      border-color: transparent;\n",
              "      border-bottom-color: var(--fill-color);\n",
              "      border-left-color: var(--fill-color);\n",
              "    }\n",
              "    20% {\n",
              "      border-color: transparent;\n",
              "      border-left-color: var(--fill-color);\n",
              "      border-top-color: var(--fill-color);\n",
              "    }\n",
              "    30% {\n",
              "      border-color: transparent;\n",
              "      border-left-color: var(--fill-color);\n",
              "      border-top-color: var(--fill-color);\n",
              "      border-right-color: var(--fill-color);\n",
              "    }\n",
              "    40% {\n",
              "      border-color: transparent;\n",
              "      border-right-color: var(--fill-color);\n",
              "      border-top-color: var(--fill-color);\n",
              "    }\n",
              "    60% {\n",
              "      border-color: transparent;\n",
              "      border-right-color: var(--fill-color);\n",
              "    }\n",
              "    80% {\n",
              "      border-color: transparent;\n",
              "      border-right-color: var(--fill-color);\n",
              "      border-bottom-color: var(--fill-color);\n",
              "    }\n",
              "    90% {\n",
              "      border-color: transparent;\n",
              "      border-bottom-color: var(--fill-color);\n",
              "    }\n",
              "  }\n",
              "</style>\n",
              "\n",
              "  <script>\n",
              "    async function quickchart(key) {\n",
              "      const quickchartButtonEl =\n",
              "        document.querySelector('#' + key + ' button');\n",
              "      quickchartButtonEl.disabled = true;  // To prevent multiple clicks.\n",
              "      quickchartButtonEl.classList.add('colab-df-spinner');\n",
              "      try {\n",
              "        const charts = await google.colab.kernel.invokeFunction(\n",
              "            'suggestCharts', [key], {});\n",
              "      } catch (error) {\n",
              "        console.error('Error during call to suggestCharts:', error);\n",
              "      }\n",
              "      quickchartButtonEl.classList.remove('colab-df-spinner');\n",
              "      quickchartButtonEl.classList.add('colab-df-quickchart-complete');\n",
              "    }\n",
              "    (() => {\n",
              "      let quickchartButtonEl =\n",
              "        document.querySelector('#df-23b343f4-8618-46d1-bfc1-eb73f822ed01 button');\n",
              "      quickchartButtonEl.style.display =\n",
              "        google.colab.kernel.accessAllowed ? 'block' : 'none';\n",
              "    })();\n",
              "  </script>\n",
              "</div>\n",
              "    </div>\n",
              "  </div>\n"
            ]
          },
          "metadata": {},
          "execution_count": 3
        }
      ]
    },
    {
      "cell_type": "code",
      "source": [
        "print(\"Farsi Bank Processed Lenght: {} \\n\".format(len(farsibank_processed)))\n",
        "farsibank_processed.head(3)"
      ],
      "metadata": {
        "colab": {
          "base_uri": "https://localhost:8080/",
          "height": 230
        },
        "id": "dqzdgKoCnb-_",
        "outputId": "386dbc1d-3ceb-49c9-8a14-f60f45bf005a"
      },
      "execution_count": null,
      "outputs": [
        {
          "output_type": "stream",
          "name": "stdout",
          "text": [
            "Farsi Bank Processed Lenght: 457 \n",
            "\n"
          ]
        },
        {
          "output_type": "execute_result",
          "data": {
            "text/plain": [
              "        name_tejary                                     mavared_masraf  \\\n",
              "0  Milk Of Magnesia   عنوان آنتی اسید ملین استفاده قرار میگیرد بیما...   \n",
              "1          Catapres   کنترل فشار خون همراه بیمار های کلیوی درمان مح...   \n",
              "2          Dobutrex  درمان نارسایی حاد قلب شوک قلب عفونی جراح قلب ا...   \n",
              "\n",
              "                                       avarez_janebi  \\\n",
              "0          اسهال مشکلات قلب اختلالات نوار قلب EEG 1    \n",
              "1  خشکی دهان تهوع استفراغ یبوست نارسایی قلب عصبان...   \n",
              "2  حملات آسم کاهش فشار خون حساسیت شدید, تهوع سردر...   \n",
              "\n",
              "                                             amozesh  \\\n",
              "0   دارو همراه مایعات استفاده مصرف, شیشه دارو تکا...   \n",
              "1   مصرف همزمان آنتی هیستامین خوددار نوبت دارو خو...   \n",
              "2   صورت تشدید علائم پزشک اطلاع داد#ده محل تزریق ...   \n",
              "\n",
              "                                           tavajohat  \n",
              "0   توصیه لیوان آب دارو میل مصرف دراز وابستگی ایجاد   \n",
              "1  معاینه چشم مرتب انجام ارو تدریج قطع فشار خون ب...  \n",
              "2  مایعات بیمار تامین نوار قلب فشار خون بیمار کنترل   "
            ],
            "text/html": [
              "\n",
              "  <div id=\"df-ba427df8-4a36-4555-b43b-d90ee6f8d397\" class=\"colab-df-container\">\n",
              "    <div>\n",
              "<style scoped>\n",
              "    .dataframe tbody tr th:only-of-type {\n",
              "        vertical-align: middle;\n",
              "    }\n",
              "\n",
              "    .dataframe tbody tr th {\n",
              "        vertical-align: top;\n",
              "    }\n",
              "\n",
              "    .dataframe thead th {\n",
              "        text-align: right;\n",
              "    }\n",
              "</style>\n",
              "<table border=\"1\" class=\"dataframe\">\n",
              "  <thead>\n",
              "    <tr style=\"text-align: right;\">\n",
              "      <th></th>\n",
              "      <th>name_tejary</th>\n",
              "      <th>mavared_masraf</th>\n",
              "      <th>avarez_janebi</th>\n",
              "      <th>amozesh</th>\n",
              "      <th>tavajohat</th>\n",
              "    </tr>\n",
              "  </thead>\n",
              "  <tbody>\n",
              "    <tr>\n",
              "      <th>0</th>\n",
              "      <td>Milk Of Magnesia</td>\n",
              "      <td>عنوان آنتی اسید ملین استفاده قرار میگیرد بیما...</td>\n",
              "      <td>اسهال مشکلات قلب اختلالات نوار قلب EEG 1</td>\n",
              "      <td>دارو همراه مایعات استفاده مصرف, شیشه دارو تکا...</td>\n",
              "      <td>توصیه لیوان آب دارو میل مصرف دراز وابستگی ایجاد</td>\n",
              "    </tr>\n",
              "    <tr>\n",
              "      <th>1</th>\n",
              "      <td>Catapres</td>\n",
              "      <td>کنترل فشار خون همراه بیمار های کلیوی درمان مح...</td>\n",
              "      <td>خشکی دهان تهوع استفراغ یبوست نارسایی قلب عصبان...</td>\n",
              "      <td>مصرف همزمان آنتی هیستامین خوددار نوبت دارو خو...</td>\n",
              "      <td>معاینه چشم مرتب انجام ارو تدریج قطع فشار خون ب...</td>\n",
              "    </tr>\n",
              "    <tr>\n",
              "      <th>2</th>\n",
              "      <td>Dobutrex</td>\n",
              "      <td>درمان نارسایی حاد قلب شوک قلب عفونی جراح قلب ا...</td>\n",
              "      <td>حملات آسم کاهش فشار خون حساسیت شدید, تهوع سردر...</td>\n",
              "      <td>صورت تشدید علائم پزشک اطلاع داد#ده محل تزریق ...</td>\n",
              "      <td>مایعات بیمار تامین نوار قلب فشار خون بیمار کنترل</td>\n",
              "    </tr>\n",
              "  </tbody>\n",
              "</table>\n",
              "</div>\n",
              "    <div class=\"colab-df-buttons\">\n",
              "\n",
              "  <div class=\"colab-df-container\">\n",
              "    <button class=\"colab-df-convert\" onclick=\"convertToInteractive('df-ba427df8-4a36-4555-b43b-d90ee6f8d397')\"\n",
              "            title=\"Convert this dataframe to an interactive table.\"\n",
              "            style=\"display:none;\">\n",
              "\n",
              "  <svg xmlns=\"http://www.w3.org/2000/svg\" height=\"24px\" viewBox=\"0 -960 960 960\">\n",
              "    <path d=\"M120-120v-720h720v720H120Zm60-500h600v-160H180v160Zm220 220h160v-160H400v160Zm0 220h160v-160H400v160ZM180-400h160v-160H180v160Zm440 0h160v-160H620v160ZM180-180h160v-160H180v160Zm440 0h160v-160H620v160Z\"/>\n",
              "  </svg>\n",
              "    </button>\n",
              "\n",
              "  <style>\n",
              "    .colab-df-container {\n",
              "      display:flex;\n",
              "      gap: 12px;\n",
              "    }\n",
              "\n",
              "    .colab-df-convert {\n",
              "      background-color: #E8F0FE;\n",
              "      border: none;\n",
              "      border-radius: 50%;\n",
              "      cursor: pointer;\n",
              "      display: none;\n",
              "      fill: #1967D2;\n",
              "      height: 32px;\n",
              "      padding: 0 0 0 0;\n",
              "      width: 32px;\n",
              "    }\n",
              "\n",
              "    .colab-df-convert:hover {\n",
              "      background-color: #E2EBFA;\n",
              "      box-shadow: 0px 1px 2px rgba(60, 64, 67, 0.3), 0px 1px 3px 1px rgba(60, 64, 67, 0.15);\n",
              "      fill: #174EA6;\n",
              "    }\n",
              "\n",
              "    .colab-df-buttons div {\n",
              "      margin-bottom: 4px;\n",
              "    }\n",
              "\n",
              "    [theme=dark] .colab-df-convert {\n",
              "      background-color: #3B4455;\n",
              "      fill: #D2E3FC;\n",
              "    }\n",
              "\n",
              "    [theme=dark] .colab-df-convert:hover {\n",
              "      background-color: #434B5C;\n",
              "      box-shadow: 0px 1px 3px 1px rgba(0, 0, 0, 0.15);\n",
              "      filter: drop-shadow(0px 1px 2px rgba(0, 0, 0, 0.3));\n",
              "      fill: #FFFFFF;\n",
              "    }\n",
              "  </style>\n",
              "\n",
              "    <script>\n",
              "      const buttonEl =\n",
              "        document.querySelector('#df-ba427df8-4a36-4555-b43b-d90ee6f8d397 button.colab-df-convert');\n",
              "      buttonEl.style.display =\n",
              "        google.colab.kernel.accessAllowed ? 'block' : 'none';\n",
              "\n",
              "      async function convertToInteractive(key) {\n",
              "        const element = document.querySelector('#df-ba427df8-4a36-4555-b43b-d90ee6f8d397');\n",
              "        const dataTable =\n",
              "          await google.colab.kernel.invokeFunction('convertToInteractive',\n",
              "                                                    [key], {});\n",
              "        if (!dataTable) return;\n",
              "\n",
              "        const docLinkHtml = 'Like what you see? Visit the ' +\n",
              "          '<a target=\"_blank\" href=https://colab.research.google.com/notebooks/data_table.ipynb>data table notebook</a>'\n",
              "          + ' to learn more about interactive tables.';\n",
              "        element.innerHTML = '';\n",
              "        dataTable['output_type'] = 'display_data';\n",
              "        await google.colab.output.renderOutput(dataTable, element);\n",
              "        const docLink = document.createElement('div');\n",
              "        docLink.innerHTML = docLinkHtml;\n",
              "        element.appendChild(docLink);\n",
              "      }\n",
              "    </script>\n",
              "  </div>\n",
              "\n",
              "\n",
              "<div id=\"df-63060ab4-6688-4c40-be1c-d3e312117571\">\n",
              "  <button class=\"colab-df-quickchart\" onclick=\"quickchart('df-63060ab4-6688-4c40-be1c-d3e312117571')\"\n",
              "            title=\"Suggest charts\"\n",
              "            style=\"display:none;\">\n",
              "\n",
              "<svg xmlns=\"http://www.w3.org/2000/svg\" height=\"24px\"viewBox=\"0 0 24 24\"\n",
              "     width=\"24px\">\n",
              "    <g>\n",
              "        <path d=\"M19 3H5c-1.1 0-2 .9-2 2v14c0 1.1.9 2 2 2h14c1.1 0 2-.9 2-2V5c0-1.1-.9-2-2-2zM9 17H7v-7h2v7zm4 0h-2V7h2v10zm4 0h-2v-4h2v4z\"/>\n",
              "    </g>\n",
              "</svg>\n",
              "  </button>\n",
              "\n",
              "<style>\n",
              "  .colab-df-quickchart {\n",
              "      --bg-color: #E8F0FE;\n",
              "      --fill-color: #1967D2;\n",
              "      --hover-bg-color: #E2EBFA;\n",
              "      --hover-fill-color: #174EA6;\n",
              "      --disabled-fill-color: #AAA;\n",
              "      --disabled-bg-color: #DDD;\n",
              "  }\n",
              "\n",
              "  [theme=dark] .colab-df-quickchart {\n",
              "      --bg-color: #3B4455;\n",
              "      --fill-color: #D2E3FC;\n",
              "      --hover-bg-color: #434B5C;\n",
              "      --hover-fill-color: #FFFFFF;\n",
              "      --disabled-bg-color: #3B4455;\n",
              "      --disabled-fill-color: #666;\n",
              "  }\n",
              "\n",
              "  .colab-df-quickchart {\n",
              "    background-color: var(--bg-color);\n",
              "    border: none;\n",
              "    border-radius: 50%;\n",
              "    cursor: pointer;\n",
              "    display: none;\n",
              "    fill: var(--fill-color);\n",
              "    height: 32px;\n",
              "    padding: 0;\n",
              "    width: 32px;\n",
              "  }\n",
              "\n",
              "  .colab-df-quickchart:hover {\n",
              "    background-color: var(--hover-bg-color);\n",
              "    box-shadow: 0 1px 2px rgba(60, 64, 67, 0.3), 0 1px 3px 1px rgba(60, 64, 67, 0.15);\n",
              "    fill: var(--button-hover-fill-color);\n",
              "  }\n",
              "\n",
              "  .colab-df-quickchart-complete:disabled,\n",
              "  .colab-df-quickchart-complete:disabled:hover {\n",
              "    background-color: var(--disabled-bg-color);\n",
              "    fill: var(--disabled-fill-color);\n",
              "    box-shadow: none;\n",
              "  }\n",
              "\n",
              "  .colab-df-spinner {\n",
              "    border: 2px solid var(--fill-color);\n",
              "    border-color: transparent;\n",
              "    border-bottom-color: var(--fill-color);\n",
              "    animation:\n",
              "      spin 1s steps(1) infinite;\n",
              "  }\n",
              "\n",
              "  @keyframes spin {\n",
              "    0% {\n",
              "      border-color: transparent;\n",
              "      border-bottom-color: var(--fill-color);\n",
              "      border-left-color: var(--fill-color);\n",
              "    }\n",
              "    20% {\n",
              "      border-color: transparent;\n",
              "      border-left-color: var(--fill-color);\n",
              "      border-top-color: var(--fill-color);\n",
              "    }\n",
              "    30% {\n",
              "      border-color: transparent;\n",
              "      border-left-color: var(--fill-color);\n",
              "      border-top-color: var(--fill-color);\n",
              "      border-right-color: var(--fill-color);\n",
              "    }\n",
              "    40% {\n",
              "      border-color: transparent;\n",
              "      border-right-color: var(--fill-color);\n",
              "      border-top-color: var(--fill-color);\n",
              "    }\n",
              "    60% {\n",
              "      border-color: transparent;\n",
              "      border-right-color: var(--fill-color);\n",
              "    }\n",
              "    80% {\n",
              "      border-color: transparent;\n",
              "      border-right-color: var(--fill-color);\n",
              "      border-bottom-color: var(--fill-color);\n",
              "    }\n",
              "    90% {\n",
              "      border-color: transparent;\n",
              "      border-bottom-color: var(--fill-color);\n",
              "    }\n",
              "  }\n",
              "</style>\n",
              "\n",
              "  <script>\n",
              "    async function quickchart(key) {\n",
              "      const quickchartButtonEl =\n",
              "        document.querySelector('#' + key + ' button');\n",
              "      quickchartButtonEl.disabled = true;  // To prevent multiple clicks.\n",
              "      quickchartButtonEl.classList.add('colab-df-spinner');\n",
              "      try {\n",
              "        const charts = await google.colab.kernel.invokeFunction(\n",
              "            'suggestCharts', [key], {});\n",
              "      } catch (error) {\n",
              "        console.error('Error during call to suggestCharts:', error);\n",
              "      }\n",
              "      quickchartButtonEl.classList.remove('colab-df-spinner');\n",
              "      quickchartButtonEl.classList.add('colab-df-quickchart-complete');\n",
              "    }\n",
              "    (() => {\n",
              "      let quickchartButtonEl =\n",
              "        document.querySelector('#df-63060ab4-6688-4c40-be1c-d3e312117571 button');\n",
              "      quickchartButtonEl.style.display =\n",
              "        google.colab.kernel.accessAllowed ? 'block' : 'none';\n",
              "    })();\n",
              "  </script>\n",
              "</div>\n",
              "    </div>\n",
              "  </div>\n"
            ]
          },
          "metadata": {},
          "execution_count": 4
        }
      ]
    },
    {
      "cell_type": "markdown",
      "source": [
        "### _Text Representation:_ <br>\n",
        "\n",
        "As mentioned before, we'll use <em>FastText</em> and <em>BERT</em>\n",
        "to produces embeddings. Operation is encapsulated inside <em>Embedding</em> class which it's can be found in [produce_embedding](./produce_embedding.py) file. <br>\n",
        "\n",
        "Similar to the <em>PreProcess</em>. <em>Embedding</em> class too has two functions named as <em>sentence_embedding</em> and <em>get_and_save_embedding</em>, former returns embedding for a single sentence(or whatever kind of text you give it) while the latter takes the whole data frame column and saves the embedding in a pickled format. <br>\n",
        "\n",
        "I have extracted the requried embedding so there's no need for you to run the following cells.<br>\n",
        "\n",
        "Just a quick heads up: since the farsi data set descriptions are so brief and consice(unlike drugbank which has quite long descriptions), I decided to produce embrddings for some other attributes as well, these include\n",
        "<em>mavared_masraf</em>, <em>avarez_janebi</em>, <em>amozesh</em>, <em>tavajohat</em>.\n",
        "\n"
      ],
      "metadata": {
        "id": "dDTPz4oEWHZ5"
      }
    },
    {
      "cell_type": "code",
      "source": [
        "from produce_embedding import Embedding\n",
        "\n",
        "ft_eng_embedder = Embedding(\"fast eng\")\n",
        "bert_eng_embedder = Embedding(\"bert eng\")"
      ],
      "metadata": {
        "id": "czP6qnomT1nu"
      },
      "execution_count": null,
      "outputs": []
    },
    {
      "cell_type": "code",
      "source": [
        "from produce_embedding import Embedding\n",
        "\n",
        "ft_fa_embedder = Embedding(\"fast fa\")\n",
        "bert_fa_embedder = Embedding(\"bert fa\")"
      ],
      "metadata": {
        "id": "k5PC5t9bX6sq"
      },
      "execution_count": null,
      "outputs": []
    },
    {
      "cell_type": "code",
      "source": [
        "drugbank_embedding_ft = ft_eng_embedder.get_and_save_embedding(data= drugbank_processed,\n",
        "                                       name_att= \"name\",\n",
        "                                       designated_atts= [\"description\"],\n",
        "                                       file_name= r\"./drugbank_embedding.pkl\")"
      ],
      "metadata": {
        "id": "mfKbuUmj_7xu"
      },
      "execution_count": null,
      "outputs": []
    },
    {
      "cell_type": "code",
      "source": [
        "farsibank_embedding_ft = ft_fa_embedder.get_and_save_embedding(data= farsibank_processed,\n",
        "                                    name_att= \"name_tejary\",\n",
        "                                    designated_atts=[\"mavared_masraf\",\n",
        "                                                     \"avarez_janebi\",\n",
        "                                                     \"amozesh\",\n",
        "                                                     \"tavajohat\"],\n",
        "                                    file_name= r\"./farsibank_embedding.pkl\")"
      ],
      "metadata": {
        "id": "D5xfkQhXLbKg",
        "colab": {
          "base_uri": "https://localhost:8080/"
        },
        "outputId": "e0f19516-3e16-4c76-a2a7-8898bdcfc605"
      },
      "execution_count": 26,
      "outputs": [
        {
          "output_type": "stream",
          "name": "stderr",
          "text": [
            "100%|██████████| 457/457 [00:57<00:00,  8.00it/s]\n"
          ]
        }
      ]
    },
    {
      "cell_type": "code",
      "source": [
        "drugbank_embedding_bert = bert_eng_embedder.get_and_save_embedding(data= drugbank_processed,\n",
        "                                       name_att= \"name\",\n",
        "                                       designated_atts= [\"description\"],\n",
        "                                       file_name= r\"./drugbank_embedding_bert.pkl\")"
      ],
      "metadata": {
        "id": "2ZgevEXCTUpr"
      },
      "execution_count": null,
      "outputs": []
    },
    {
      "cell_type": "code",
      "source": [
        "farsibank_embedding_bert = bert_fa_embedder.get_and_save_embedding(data= farsibank_processed,\n",
        "                                    name_att= \"name_tejary\",\n",
        "                                    designated_atts=[\"mavared_masraf\",\n",
        "                                                     \"avarez_janebi\",\n",
        "                                                     \"amozesh\",\n",
        "                                                     \"tavajohat\"],\n",
        "                                    file_name= r\"./farsibank_embedding_bert.pkl\")"
      ],
      "metadata": {
        "id": "mJnj1uLlTVDk",
        "colab": {
          "base_uri": "https://localhost:8080/"
        },
        "outputId": "d4b254c8-5ea9-4fd0-b1dd-838773fc8f11"
      },
      "execution_count": 27,
      "outputs": [
        {
          "output_type": "stream",
          "name": "stderr",
          "text": [
            "100%|██████████| 457/457 [03:33<00:00,  2.14it/s]\n"
          ]
        }
      ]
    },
    {
      "cell_type": "markdown",
      "source": [
        "### _Compraing Embeddings:_ <br>\n",
        "By default, <em>FastText</em> embeddings are 300 lenghed 1 dimensional vectors.<br>\n",
        "However, <em>BERT</em> produced embeddings are much lengthier(more than 700).<br>\n",
        "\n",
        "Note that I didn't fine <em>BERT</em> on my data set as the home work document didn't require it. <br>"
      ],
      "metadata": {
        "id": "2Qp3ytTFeoIp"
      }
    },
    {
      "cell_type": "code",
      "source": [
        "import pickle\n",
        "\n",
        "with open('drugbank_embedding.pkl', 'rb') as f:\n",
        "  drugbank_embedding_ft = pickle.load(f)\n",
        "\n",
        "with open('drugbank_embedding_bert.pkl', 'rb') as f:\n",
        "  drugbank_embedding_bert = pickle.load(f)"
      ],
      "metadata": {
        "id": "5eB0H_GqeovM"
      },
      "execution_count": null,
      "outputs": []
    },
    {
      "cell_type": "code",
      "source": [
        "print(\"English FastText embedding for {} length: {}\".format(drugbank_embedding_ft.iloc[1][\"name\"], len(drugbank_embedding_ft.iloc[1][\"description\"])))\n",
        "print(\"English BERT embedding for {} length: {}\".format(drugbank_embedding_bert.iloc[1][\"name\"], len(drugbank_embedding_bert.iloc[1][\"description\"])))"
      ],
      "metadata": {
        "colab": {
          "base_uri": "https://localhost:8080/"
        },
        "id": "L5TVXOXMkixg",
        "outputId": "79096e49-6d44-459e-cba1-404957c21c48"
      },
      "execution_count": null,
      "outputs": [
        {
          "output_type": "stream",
          "name": "stdout",
          "text": [
            "English FastText embedding for Cetuximab length: 300\n",
            "English BERT embedding for Cetuximab length: 768\n"
          ]
        }
      ]
    },
    {
      "cell_type": "code",
      "source": [
        "import pickle\n",
        "\n",
        "with open('farsibank_embedding.pkl', 'rb') as f:\n",
        "  farsibank_embedding_ft = pickle.load(f)\n",
        "\n",
        "with open('farsibank_embedding_bert.pkl', 'rb') as f:\n",
        "  farsibank_embedding_bert = pickle.load(f)"
      ],
      "metadata": {
        "id": "zFVi1mogkmiN"
      },
      "execution_count": 29,
      "outputs": []
    },
    {
      "cell_type": "code",
      "source": [
        "print(\"Farsi FastText embedding for {} length: {}\".format(farsibank_embedding_ft.iloc[1][\"name_tejary\"], len(farsibank_embedding_ft.iloc[1][\"mavared_masraf\"])))\n",
        "print(\"Farsi BERT embedding for {} length: {}\".format(farsibank_embedding_bert.iloc[1][\"name_tejary\"], len(farsibank_embedding_bert.iloc[1][\"mavared_masraf\"])))"
      ],
      "metadata": {
        "colab": {
          "base_uri": "https://localhost:8080/"
        },
        "id": "CO3baYy2knI_",
        "outputId": "fc01778f-089d-4642-c610-81efabf96cb1"
      },
      "execution_count": null,
      "outputs": [
        {
          "output_type": "stream",
          "name": "stdout",
          "text": [
            "Farsi FastText embedding for Catapres length: 300\n",
            "Farsi BERT embedding for Catapres length: 768\n"
          ]
        }
      ]
    },
    {
      "cell_type": "markdown",
      "source": [
        "### _Prediction:_ <br>\n",
        "At long last! now that we the embeddings, we can start predicting drug names.<br>\n",
        "\n",
        "To this end, we'll utilize [Scikit learn](https://scikit-learn.org/stable/modules/generated/sklearn.metrics.pairwise.cosine_similarity.html)\n",
        "for finding cosine similarity between the input and pickled embeddings.<br>\n",
        "\n",
        "This is done by extracting the newly given sentence's representation using <em>Embedding</em>'s <em>sentence_embedding</em> method. Then we calculate cosine similarity between this embedding and those that we previously extracted from our data set. <br>\n",
        "\n",
        "You can also specify an attribute, the <em>predict</em>\n",
        "function will use that attribute that to find similarities. <br>\n",
        "\n",
        "Finally, by sorting the similarities in a decreasing manner the desired output can be extracted."
      ],
      "metadata": {
        "id": "Nf-8KNXhaPVk"
      }
    },
    {
      "cell_type": "code",
      "source": [
        "from sklearn.metrics.pairwise import cosine_similarity\n",
        "import numpy as np\n",
        "from tqdm import tqdm\n",
        "\n",
        "\n",
        "def predict(test_input: str, drug_embeddings: pd.DataFrame, embedder: Embedding, attribute: str) -> None:\n",
        "  input_embedding = embedder.sentence_embedding(sentence= test_input)\n",
        "  if \"eng\" in embedder.model_and_language:\n",
        "    name = \"name\"\n",
        "  else:\n",
        "    name = \"name_tejary\"\n",
        "\n",
        "  input_embedding = input_embedding.reshape(1, -1)\n",
        "  similarities = []\n",
        "  for index, row in tqdm(drug_embeddings.iterrows(), total=len(drug_embeddings)):\n",
        "    drug_name = row[name]\n",
        "    drug_embedding = row[attribute]\n",
        "    drug_embedding = np.array(drug_embedding).reshape(1, -1)\n",
        "    similarity = cosine_similarity(input_embedding, drug_embedding)\n",
        "    similarities.append((drug_name, similarity[0][0]))\n",
        "\n",
        "  similarities.sort(key=lambda x: x[1], reverse=True)\n",
        "  most_similar_drugs = similarities[:3]\n",
        "\n",
        "  return most_similar_drugs\n",
        "\n"
      ],
      "metadata": {
        "id": "kN-vWOcLJxsC"
      },
      "execution_count": 8,
      "outputs": []
    },
    {
      "cell_type": "markdown",
      "source": [
        "### _Evaluating English Embeddings:_ <br>\n",
        "\n"
      ],
      "metadata": {
        "id": "5ryYn16ieSuV"
      }
    },
    {
      "cell_type": "code",
      "source": [
        "test_drug_1 = \"Etanercept\"\n",
        "test_input_1 = \"Dimeric fusion protein consisting of the extracellular ligand-binding portion of the human 75 kilodalton (p75) tumor necrosis factor receptor (TNFR) linked to the Fc portion of human IgG1.[L14862,A216522] The Fc component of etanercept contains the CH2 domain, the CH3 domain and hinge region, but not the CH1 domain of IgG1. Etanercept is produced by recombinant DNA technology in a Chinese hamster ovary (CHO) mammalian cell expression system. It consists of 934 amino acids. It is used to treat or manage a variety of inflammatory conditions including rheumatoid arthritis (RA), ankylosing spondylitis (AS), and juvenile idiopathic poly-articular arthritis (JIA).\"\n",
        "test_input_1 = eng_processor.process(test_input_1)\n",
        "test_input_1_modified =\"HELLO I CHANGED THIS protein consisting of the extracellular ligand-binding portion of the human 75 kilodalton (p75) tumor necrosis factor receptor (TNFR) linked to the Fc portion of human IgG1.[L14862,A216522] The Fc component of etanercept contains the CH2 domain, the CH3 domain and hinge region, but not the CH1 domain of IgG1. Etanercept is produced by recombinant DNA technology in a Chinese hamster ovary (CHO) mammalian cell expression system. It consists of 934 amino acids. It is used to treat or manage a variety of inflammatory conditions including rheumatoid arthritis (RA), ankylosing spondylitis (AS), and juvenile idiopathic poly-articular arthritis (JIA).\"\n",
        "test_input_1_modified = eng_processor.process(test_input_1_modified)\n",
        "\n",
        "\n",
        "test_drug_2 = \"Sargramostim\"\n",
        "test_input_2 = \"Sargramostim is a human recombinant granulocyte macrophage colony-stimulating factor (GM-CSF) expressed in yeast. It is a glycoprotein that is 127 residues. Substitution of Leu23 leads to a difference from native protein.\"\n",
        "test_input_2 = eng_processor.process(test_input_2)\n",
        "test_input_2_modified = \"HELLO I CHANGED THIS is a human recombinant granulocyte macrophage colony-stimulating factor (GM-CSF) expressed in yeast. It is a glycoprotein that is 127 residues. Substitution of Leu23 leads to a difference from native protein.\"\n",
        "test_input_2_modified = eng_processor.process(test_input_2_modified)\n",
        "\n",
        "\n",
        "test_drug_3 = \"Amifostine\"\n",
        "test_input_3 = \"A phosphorothioate proposed as a radiation-protective agent. It causes splenic vasodilation and may block autonomic ganglia.\"\n",
        "test_input_3 = eng_processor.process(test_input_3)\n",
        "test_input_3_modified = \"HELLO I CHANGED THIS proposed as a radiation-protective agent. It causes splenic vasodilation and may block autonomic ganglia.\"\n",
        "test_input_3_modified = eng_processor.process(test_input_3_modified)\n",
        "\n",
        "\n",
        "\n",
        "print(\"FastText prediction for none modified {} is: {}\".format(test_drug_1, predict(test_input_1, drugbank_embedding_ft, ft_eng_embedder, \"description\")))\n",
        "print(\"Bert prediction for none modified {} is: {}\".format(test_drug_1, predict(test_input_1, drugbank_embedding_bert, bert_eng_embedder, \"description\")))\n",
        "print(\"-----------------------------------\")\n",
        "print(\"FastText prediction for modified {} is: {}\".format(test_drug_1, predict(test_input_1_modified, drugbank_embedding_ft, ft_eng_embedder, \"description\")))\n",
        "print(\"Bert prediction for modified {} is: {}\".format(test_drug_1, predict(test_input_1_modified, drugbank_embedding_bert, bert_eng_embedder, \"description\")))\n",
        "print(\"===================================\")\n",
        "\n",
        "\n",
        "\n",
        "print(\"FastText prediction for none modified {} is: {}\".format(test_drug_2, predict(test_input_2, drugbank_embedding_ft, ft_eng_embedder, \"description\")))\n",
        "print(\"Bert prediction for none modified {} is: {}\".format(test_drug_2, predict(test_input_2, drugbank_embedding_bert, bert_eng_embedder, \"description\")))\n",
        "print(\"-----------------------------------\")\n",
        "print(\"FastText prediction for modified {} is: {}\".format(test_drug_2, predict(test_input_2_modified, drugbank_embedding_ft, ft_eng_embedder, \"description\")))\n",
        "print(\"Bert prediction for modified {} is: {}\".format(test_drug_2, predict(test_input_2_modified, drugbank_embedding_bert, bert_eng_embedder, \"description\")))\n",
        "print(\"===================================\")\n",
        "\n",
        "\n",
        "\n",
        "print(\"FastText prediction for none modified {} is: {}\".format(test_drug_3, predict(test_input_3, drugbank_embedding_ft, ft_eng_embedder, \"description\")))\n",
        "print(\"Bert prediction for none modified {} is: {}\".format(test_drug_3, predict(test_input_3, drugbank_embedding_bert, bert_eng_embedder, \"description\")))\n",
        "print(\"-----------------------------------\")\n",
        "print(\"FastText prediction for modified {} is: {}\".format(test_drug_3, predict(test_input_3_modified, drugbank_embedding_ft, ft_eng_embedder, \"description\")))\n",
        "print(\"Bert prediction for modified {} is: {}\".format(test_drug_3, predict(test_input_3_modified, drugbank_embedding_bert, bert_eng_embedder, \"description\")))"
      ],
      "metadata": {
        "colab": {
          "base_uri": "https://localhost:8080/"
        },
        "id": "RyEndfG7J78z",
        "outputId": "1b440782-85d1-4570-9eb4-777413a7700b"
      },
      "execution_count": null,
      "outputs": [
        {
          "output_type": "stream",
          "name": "stderr",
          "text": [
            "100%|██████████| 8974/8974 [00:04<00:00, 1891.11it/s]\n"
          ]
        },
        {
          "output_type": "stream",
          "name": "stdout",
          "text": [
            "FastText prediction for none modified Etanercept is: [('Etanercept', 0.9999999), ('Abatacept', 0.93334967), ('Belatacept', 0.91063845)]\n"
          ]
        },
        {
          "output_type": "stream",
          "name": "stderr",
          "text": [
            "100%|██████████| 8974/8974 [00:05<00:00, 1755.59it/s]\n"
          ]
        },
        {
          "output_type": "stream",
          "name": "stdout",
          "text": [
            "Bert prediction for none modified Etanercept is: [('Etanercept', 0.9999999), ('Coagulation Factor IX (Recombinant)', 0.907702), ('Reteplase', 0.9063566)]\n",
            "-----------------------------------\n"
          ]
        },
        {
          "output_type": "stream",
          "name": "stderr",
          "text": [
            "100%|██████████| 8974/8974 [00:05<00:00, 1697.31it/s]\n"
          ]
        },
        {
          "output_type": "stream",
          "name": "stdout",
          "text": [
            "FastText prediction for modified Etanercept is: [('Etanercept', 0.99841696), ('Abatacept', 0.929565), ('Belatacept', 0.9091094)]\n"
          ]
        },
        {
          "output_type": "stream",
          "name": "stderr",
          "text": [
            "100%|██████████| 8974/8974 [00:04<00:00, 1956.82it/s]\n"
          ]
        },
        {
          "output_type": "stream",
          "name": "stdout",
          "text": [
            "Bert prediction for modified Etanercept is: [('Etanercept', 0.9944751), ('Coagulation Factor IX (Recombinant)', 0.91497695), ('Padimate O', 0.910378)]\n",
            "===================================\n"
          ]
        },
        {
          "output_type": "stream",
          "name": "stderr",
          "text": [
            "100%|██████████| 8974/8974 [00:04<00:00, 1893.99it/s]\n"
          ]
        },
        {
          "output_type": "stream",
          "name": "stdout",
          "text": [
            "FastText prediction for none modified Sargramostim is: [('Sargramostim', 1.0), ('Coagulation factor VIIa Recombinant Human', 0.82511944), ('Interferon alfa-2a', 0.81604797)]\n"
          ]
        },
        {
          "output_type": "stream",
          "name": "stderr",
          "text": [
            "100%|██████████| 8974/8974 [00:04<00:00, 1795.09it/s]\n"
          ]
        },
        {
          "output_type": "stream",
          "name": "stdout",
          "text": [
            "Bert prediction for none modified Sargramostim is: [('Sargramostim', 1.0), ('Thrombomodulin Alfa', 0.92537725), ('Regramostim', 0.92339206)]\n",
            "-----------------------------------\n"
          ]
        },
        {
          "output_type": "stream",
          "name": "stderr",
          "text": [
            "100%|██████████| 8974/8974 [00:04<00:00, 2144.12it/s]\n"
          ]
        },
        {
          "output_type": "stream",
          "name": "stdout",
          "text": [
            "FastText prediction for modified Sargramostim is: [('Sargramostim', 0.97761035), ('Coagulation factor VIIa Recombinant Human', 0.8153826), ('Interferon alfa-2a', 0.814155)]\n"
          ]
        },
        {
          "output_type": "stream",
          "name": "stderr",
          "text": [
            "100%|██████████| 8974/8974 [00:05<00:00, 1721.51it/s]\n"
          ]
        },
        {
          "output_type": "stream",
          "name": "stdout",
          "text": [
            "Bert prediction for modified Sargramostim is: [('Sargramostim', 0.97339237), ('Reteplase', 0.92151475), ('Galsulfase', 0.9207161)]\n",
            "===================================\n"
          ]
        },
        {
          "output_type": "stream",
          "name": "stderr",
          "text": [
            "100%|██████████| 8974/8974 [00:04<00:00, 1964.15it/s]\n"
          ]
        },
        {
          "output_type": "stream",
          "name": "stdout",
          "text": [
            "FastText prediction for none modified Amifostine is: [('Amifostine', 1.0), ('Bencyclane', 0.81368625), ('Gallamine triethiodide', 0.80637664)]\n"
          ]
        },
        {
          "output_type": "stream",
          "name": "stderr",
          "text": [
            "100%|██████████| 8974/8974 [00:04<00:00, 1936.18it/s]\n"
          ]
        },
        {
          "output_type": "stream",
          "name": "stdout",
          "text": [
            "Bert prediction for none modified Amifostine is: [('Amifostine', 0.9999998), ('Mivacurium', 0.9292915), ('Bethanidine', 0.9287053)]\n",
            "-----------------------------------\n"
          ]
        },
        {
          "output_type": "stream",
          "name": "stderr",
          "text": [
            "100%|██████████| 8974/8974 [00:06<00:00, 1438.01it/s]\n"
          ]
        },
        {
          "output_type": "stream",
          "name": "stdout",
          "text": [
            "FastText prediction for modified Amifostine is: [('Amifostine', 0.9574679), ('Gallamine triethiodide', 0.80024874), ('Bencyclane', 0.7970907)]\n"
          ]
        },
        {
          "output_type": "stream",
          "name": "stderr",
          "text": [
            "100%|██████████| 8974/8974 [00:05<00:00, 1772.64it/s]"
          ]
        },
        {
          "output_type": "stream",
          "name": "stdout",
          "text": [
            "Bert prediction for modified Amifostine is: [('Domperidone', 0.90957), ('Amifostine', 0.90950537), ('Dialyzable leukocyte extract', 0.90517956)]\n"
          ]
        },
        {
          "output_type": "stream",
          "name": "stderr",
          "text": [
            "\n"
          ]
        }
      ]
    },
    {
      "cell_type": "markdown",
      "source": [
        "### _Evaluating Farsi Embeddings:_ <br>\n"
      ],
      "metadata": {
        "id": "2B6ICSKqy1dY"
      }
    },
    {
      "cell_type": "code",
      "source": [
        "farsibank = pd.read_csv(r\"./farsi_drug_data.csv\")\n",
        "\n",
        "# For drug_1 we'll use \"mavared_masraf\"\n",
        "test_drug_1 = farsibank.loc[160][\"name_tejary\"]\n",
        "test_input_1 = farsibank.loc[160][\"mavared_masraf\"]\n",
        "test_input_1 = fa_processor.process(test_input_1)\n",
        "test_input_1_modified = test_drug_1 + \" اضافه \"\n",
        "test_input_1_modified = fa_processor.process(test_input_1_modified)\n",
        "\n",
        "\n",
        "# For drug_2 we'll use \"avarez_janebi\"\n",
        "test_drug_2 = farsibank.loc[53][\"name_tejary\"]\n",
        "test_input_2 = farsibank.loc[53][\"avarez_janebi\"]\n",
        "test_input_2 = fa_processor.process(test_input_2)\n",
        "test_input_2_modified = test_drug_2 + \" اضافه \"\n",
        "test_input_2_modified = fa_processor.process(test_input_2_modified)\n",
        "\n",
        "\n",
        "#dor drug_3 we'll use \"tavajohat\"\n",
        "test_drug_3 = farsibank.loc[380][\"name_tejary\"]\n",
        "test_input_3 = farsibank.loc[380][\"tavajohat\"]\n",
        "test_input_3 = fa_processor.process(test_input_3)\n",
        "test_input_3_modified = test_drug_3 + \" اضافه \"\n",
        "test_input_3_modified = fa_processor.process(test_input_3_modified)\n",
        "\n",
        "\n",
        "\n",
        "print(\"FastText prediction for none modified {} is: {}\".format(test_drug_1, predict(test_input_1, farsibank_embedding_ft, ft_fa_embedder, \"mavared_masraf\")))\n",
        "print(\"Bert prediction for none modified {} is: {}\".format(test_drug_1, predict(test_input_1, farsibank_embedding_bert, bert_fa_embedder, \"mavared_masraf\")))\n",
        "print(\"-----------------------------------\")\n",
        "print(\"FastText prediction for modified {} is: {}\".format(test_drug_1, predict(test_input_1_modified, farsibank_embedding_ft, ft_fa_embedder, \"mavared_masraf\")))\n",
        "print(\"Bert prediction for modified {} is: {}\".format(test_drug_1, predict(test_input_1_modified, farsibank_embedding_bert, bert_fa_embedder, \"mavared_masraf\")))\n",
        "print(\"===================================\")\n",
        "\n",
        "\n",
        "\n",
        "print(\"FastText prediction for none modified {} is: {}\".format(test_drug_2, predict(test_input_2, farsibank_embedding_ft, ft_fa_embedder, \"avarez_janebi\")))\n",
        "print(\"Bert prediction for none modified {} is: {}\".format(test_drug_2, predict(test_input_2, farsibank_embedding_bert, bert_fa_embedder, \"avarez_janebi\")))\n",
        "print(\"-----------------------------------\")\n",
        "print(\"FastText prediction for modifieded {} is: {}\".format(test_drug_2, predict(test_input_2_modified, farsibank_embedding_ft, ft_fa_embedder, \"avarez_janebi\")))\n",
        "print(\"BERT prediction for modifieded {} is: {}\".format(test_drug_2, predict(test_input_2_modified, farsibank_embedding_bert, bert_fa_embedder, \"avarez_janebi\")))\n",
        "print(\"===================================\")\n",
        "\n",
        "\n",
        "\n",
        "print(\"FastText prediction for none modified {} is: {}\".format(test_drug_3, predict(test_input_3, farsibank_embedding_ft, ft_fa_embedder, \"tavajohat\")))\n",
        "print(\"Bert prediction for none modified {} is: {}\".format(test_drug_3, predict(test_input_3, farsibank_embedding_bert, bert_fa_embedder, \"tavajohat\")))\n",
        "print(\"-----------------------------------\")\n",
        "print(\"FastText prediction for modified {} is: {}\".format(test_drug_3, predict(test_input_3_modified, farsibank_embedding_ft, ft_fa_embedder, \"tavajohat\")))\n",
        "print(\"Bert prediction for modified {} is: {}\".format(test_drug_3, predict(test_input_3_modified, farsibank_embedding_bert, bert_fa_embedder, \"tavajohat\")))"
      ],
      "metadata": {
        "id": "hXe5cAGAbzZp",
        "colab": {
          "base_uri": "https://localhost:8080/"
        },
        "outputId": "dffee3d4-d38e-433f-804a-19876e37055e"
      },
      "execution_count": 31,
      "outputs": [
        {
          "output_type": "stream",
          "name": "stderr",
          "text": [
            "100%|██████████| 457/457 [00:00<00:00, 2035.65it/s]\n"
          ]
        },
        {
          "output_type": "stream",
          "name": "stdout",
          "text": [
            "FastText prediction for none modified Salmon is: [('Salmon', 1.0), ('Drionel', 0.85113543), ('Endoxan', 0.81451327)]\n"
          ]
        },
        {
          "output_type": "stream",
          "name": "stderr",
          "text": [
            "100%|██████████| 457/457 [00:00<00:00, 882.62it/s]\n"
          ]
        },
        {
          "output_type": "stream",
          "name": "stdout",
          "text": [
            "Bert prediction for none modified Salmon is: [('Salmon', 1.0), ('Fosamax', 0.87427545), ('Drionel', 0.84084404)]\n",
            "-----------------------------------\n"
          ]
        },
        {
          "output_type": "stream",
          "name": "stderr",
          "text": [
            "100%|██████████| 457/457 [00:00<00:00, 1863.03it/s]\n"
          ]
        },
        {
          "output_type": "stream",
          "name": "stdout",
          "text": [
            "FastText prediction for modified Salmon is: [('Adecaps', 0.35229343), ('Dextraran', 0.35143468), ('------', 0.34656754)]\n"
          ]
        },
        {
          "output_type": "stream",
          "name": "stderr",
          "text": [
            "100%|██████████| 457/457 [00:00<00:00, 2219.36it/s]\n"
          ]
        },
        {
          "output_type": "stream",
          "name": "stdout",
          "text": [
            "Bert prediction for modified Salmon is: [('Buspar', 0.70213836), ('Capastat', 0.70213836), ('Sinemet', 0.70213836)]\n",
            "===================================\n"
          ]
        },
        {
          "output_type": "stream",
          "name": "stderr",
          "text": [
            "100%|██████████| 457/457 [00:00<00:00, 2337.61it/s]\n"
          ]
        },
        {
          "output_type": "stream",
          "name": "stdout",
          "text": [
            "FastText prediction for none modified Cosmegen is: [('Cosmegen', 1.0000002), ('Cytosar', 0.90485376), ('Paracetamol', 0.8949)]\n"
          ]
        },
        {
          "output_type": "stream",
          "name": "stderr",
          "text": [
            "100%|██████████| 457/457 [00:00<00:00, 1861.37it/s]\n"
          ]
        },
        {
          "output_type": "stream",
          "name": "stdout",
          "text": [
            "Bert prediction for none modified Cosmegen is: [('Cosmegen', 0.99999994), ('Norplant', 0.9344437), ('Laniazid', 0.93442386)]\n",
            "-----------------------------------\n"
          ]
        },
        {
          "output_type": "stream",
          "name": "stderr",
          "text": [
            "100%|██████████| 457/457 [00:00<00:00, 2114.02it/s]\n"
          ]
        },
        {
          "output_type": "stream",
          "name": "stdout",
          "text": [
            "FastText prediction for modifieded Cosmegen is: [('Celestone', 0.43488458), ('Panthoderm', 0.414363), ('Corisan', 0.414363)]\n"
          ]
        },
        {
          "output_type": "stream",
          "name": "stderr",
          "text": [
            "100%|██████████| 457/457 [00:00<00:00, 1814.01it/s]\n"
          ]
        },
        {
          "output_type": "stream",
          "name": "stdout",
          "text": [
            "BERT prediction for modifieded Cosmegen is: [('Calamox', 0.6796804), ('Murine', 0.6796804), ('Desitin', 0.66405934)]\n",
            "===================================\n"
          ]
        },
        {
          "output_type": "stream",
          "name": "stderr",
          "text": [
            "100%|██████████| 457/457 [00:00<00:00, 1876.39it/s]\n"
          ]
        },
        {
          "output_type": "stream",
          "name": "stdout",
          "text": [
            "FastText prediction for none modified Timoptic is: [('Timoptic', 0.9999999), ('Cyclogyl', 0.81283665), ('Taxotere', 0.7773459)]\n"
          ]
        },
        {
          "output_type": "stream",
          "name": "stderr",
          "text": [
            "100%|██████████| 457/457 [00:00<00:00, 1971.58it/s]\n"
          ]
        },
        {
          "output_type": "stream",
          "name": "stdout",
          "text": [
            "Bert prediction for none modified Timoptic is: [('Timoptic', 1.0000002), ('Adriblastina', 0.8327975), ('Betoptic', 0.82929534)]\n",
            "-----------------------------------\n"
          ]
        },
        {
          "output_type": "stream",
          "name": "stderr",
          "text": [
            "100%|██████████| 457/457 [00:00<00:00, 1925.13it/s]\n"
          ]
        },
        {
          "output_type": "stream",
          "name": "stdout",
          "text": [
            "FastText prediction for modified Timoptic is: [('Duraphat', 0.49165392), ('Plasil', 0.48066857), ('Acthar', 0.47884744)]\n"
          ]
        },
        {
          "output_type": "stream",
          "name": "stderr",
          "text": [
            "100%|██████████| 457/457 [00:00<00:00, 1998.59it/s]"
          ]
        },
        {
          "output_type": "stream",
          "name": "stdout",
          "text": [
            "Bert prediction for modified Timoptic is: [('Topiccy cline', 0.61484325), ('Mentopin', 0.61484325), ('Sorbilax', 0.61484325)]\n"
          ]
        },
        {
          "output_type": "stream",
          "name": "stderr",
          "text": [
            "\n"
          ]
        }
      ]
    }
  ]
}